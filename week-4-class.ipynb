{
 "cells": [
  {
   "cell_type": "markdown",
   "id": "fee8644f",
   "metadata": {},
   "source": [
    "# Week 4 Class (with answers)\n",
    "\n",
    "1. Rewrite the merge sort code, adding assertions to check that the loop invariant is satisfied.\n",
    "2. Write code to sum the value in an array. Find a loop invariant for your code, and use it to prove that your code correctly sums those values."
   ]
  },
  {
   "cell_type": "code",
   "execution_count": 10,
   "id": "4c9c1cf1",
   "metadata": {},
   "outputs": [
    {
     "data": {
      "text/plain": [
       "[1, 2, 3, 4, 5, 6, 7, 8]"
      ]
     },
     "execution_count": 10,
     "metadata": {},
     "output_type": "execute_result"
    }
   ],
   "source": [
    "def mergesort(X):\n",
    "    if len(X) <= 1:\n",
    "        return X\n",
    "    mid = len(X)//2\n",
    "    L = mergesort(X[:mid])\n",
    "    R = mergesort(X[mid:])\n",
    "    out = []\n",
    "    i = j = 0\n",
    "    while i < len(L) or j < len(R):\n",
    "        if i == len(L):\n",
    "            out.append(R[j])\n",
    "            j += 1\n",
    "        elif j == len(R):\n",
    "            out.append(L[i])\n",
    "            i += 1\n",
    "        else:\n",
    "            l = L[i]\n",
    "            r = R[j]\n",
    "            if l < r:\n",
    "                out.append(L[i])\n",
    "                i += 1\n",
    "            else:\n",
    "                out.append(R[j])\n",
    "                j += 1\n",
    "    assert out[-2] <= out[-1]\n",
    "    return out\n",
    "\n",
    "mergesort([6, 5, 3, 1, 8, 7, 2, 4])"
   ]
  },
  {
   "cell_type": "code",
   "execution_count": 11,
   "id": "31692570",
   "metadata": {},
   "outputs": [
    {
     "data": {
      "text/plain": [
       "35"
      ]
     },
     "execution_count": 11,
     "metadata": {},
     "output_type": "execute_result"
    }
   ],
   "source": [
    "def sum_array(X):\n",
    "    sum = 0\n",
    "    assert sum == 0\n",
    "    for i in range(len(X)):\n",
    "        current = sum\n",
    "        sum += X[i]\n",
    "        assert sum - current == X[i]\n",
    "    \n",
    "    return sum\n",
    "\n",
    "sum_array([1,6,4,8,3,5,2,9,0,-3])"
   ]
  }
 ],
 "metadata": {
  "kernelspec": {
   "display_name": "Python 3 (ipykernel)",
   "language": "python",
   "name": "python3"
  },
  "language_info": {
   "codemirror_mode": {
    "name": "ipython",
    "version": 3
   },
   "file_extension": ".py",
   "mimetype": "text/x-python",
   "name": "python",
   "nbconvert_exporter": "python",
   "pygments_lexer": "ipython3",
   "version": "3.10.8"
  }
 },
 "nbformat": 4,
 "nbformat_minor": 5
}
